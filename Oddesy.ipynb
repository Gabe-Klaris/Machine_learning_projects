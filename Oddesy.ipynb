{
  "nbformat": 4,
  "nbformat_minor": 0,
  "metadata": {
    "colab": {
      "name": "Oddesy.ipynb",
      "provenance": [],
      "authorship_tag": "ABX9TyMoGZ+nwL5JE4JuIaxWLO2/",
      "include_colab_link": true
    },
    "kernelspec": {
      "name": "python3",
      "display_name": "Python 3"
    },
    "language_info": {
      "name": "python"
    },
    "accelerator": "GPU"
  },
  "cells": [
    {
      "cell_type": "markdown",
      "metadata": {
        "id": "view-in-github",
        "colab_type": "text"
      },
      "source": [
        "<a href=\"https://colab.research.google.com/github/Tubby101/Machine_learning_projects/blob/main/Oddesy.ipynb\" target=\"_parent\"><img src=\"https://colab.research.google.com/assets/colab-badge.svg\" alt=\"Open In Colab\"/></a>"
      ]
    },
    {
      "cell_type": "code",
      "execution_count": 1,
      "metadata": {
        "id": "l44oHjs98Ko5"
      },
      "outputs": [],
      "source": [
        "import tensorflow as tf\n",
        "\n",
        "import numpy as np\n",
        "import os\n",
        "import time"
      ]
    },
    {
      "cell_type": "code",
      "source": [
        "path_to_file = tf.keras.utils.get_file('odyssey.mb.txt', 'http://classics.mit.edu/Homer/odyssey.mb.txt')"
      ],
      "metadata": {
        "id": "XbaRBofx8dp2",
        "colab": {
          "base_uri": "https://localhost:8080/"
        },
        "outputId": "992e2b05-3938-4d20-c532-17f77062c2a5"
      },
      "execution_count": 2,
      "outputs": [
        {
          "output_type": "stream",
          "name": "stdout",
          "text": [
            "Downloading data from http://classics.mit.edu/Homer/odyssey.mb.txt\n",
            "  16384/Unknown - 0s 1us/step"
          ]
        }
      ]
    },
    {
      "cell_type": "code",
      "source": [
        "\n",
        "# Read, then decode for py2 compat.\n",
        "text = open(path_to_file, 'rb').read().decode(encoding='utf-8')\n",
        "# length of text is the number of characters in it\n",
        "print(f'Length of text: {len(text)} characters')\n"
      ],
      "metadata": {
        "colab": {
          "base_uri": "https://localhost:8080/"
        },
        "id": "HN_xHuwJ8kVO",
        "outputId": "c05c9be5-a896-4157-a256-e6e0949a605c"
      },
      "execution_count": 3,
      "outputs": [
        {
          "output_type": "stream",
          "name": "stdout",
          "text": [
            "Length of text: 611300 characters\n"
          ]
        }
      ]
    },
    {
      "cell_type": "code",
      "source": [
        "# Take a look at the first 250 characters in text\n",
        "print(text[:250])\n",
        "# The unique characters in the file\n",
        "vocab = sorted(set(text))\n",
        "print(f'{len(vocab)} unique characters')"
      ],
      "metadata": {
        "colab": {
          "base_uri": "https://localhost:8080/"
        },
        "id": "QsLZo8zwfIg_",
        "outputId": "42ea5568-d141-431b-f180-33f675e06899"
      },
      "execution_count": 4,
      "outputs": [
        {
          "output_type": "stream",
          "name": "stdout",
          "text": [
            "Provided by The Internet Classics Archive.\n",
            "See bottom for copyright. Available online at\n",
            "    http://classics.mit.edu//Homer/odyssey.html\n",
            "\n",
            "The Odyssey\n",
            "By Homer\n",
            "\n",
            "\n",
            "Translated by Samuel Butler\n",
            "\n",
            "------------------------------------------------------------\n",
            "74 unique characters\n"
          ]
        }
      ]
    },
    {
      "cell_type": "code",
      "source": [
        "example_texts = ['abcdefg', 'xyz']\n",
        "\n",
        "chars = tf.strings.unicode_split(example_texts, input_encoding='UTF-8')\n",
        "chars"
      ],
      "metadata": {
        "colab": {
          "base_uri": "https://localhost:8080/"
        },
        "id": "upiUOOO3fW_v",
        "outputId": "a7f1b27b-7ddd-4340-a1d4-007a2ad63e14"
      },
      "execution_count": 5,
      "outputs": [
        {
          "output_type": "execute_result",
          "data": {
            "text/plain": [
              "<tf.RaggedTensor [[b'a', b'b', b'c', b'd', b'e', b'f', b'g'], [b'x', b'y', b'z']]>"
            ]
          },
          "metadata": {},
          "execution_count": 5
        }
      ]
    },
    {
      "cell_type": "code",
      "source": [
        "ids_from_chars = tf.keras.layers.StringLookup(\n",
        "    vocabulary=list(vocab), mask_token=None)"
      ],
      "metadata": {
        "id": "8201RWP7fcLz"
      },
      "execution_count": 6,
      "outputs": []
    },
    {
      "cell_type": "code",
      "source": [
        "ids = ids_from_chars(chars)\n",
        "ids"
      ],
      "metadata": {
        "colab": {
          "base_uri": "https://localhost:8080/"
        },
        "id": "nFFSVcWyfc6c",
        "outputId": "53eecd74-6639-40ea-abb1-3fd9a4518729"
      },
      "execution_count": 7,
      "outputs": [
        {
          "output_type": "execute_result",
          "data": {
            "text/plain": [
              "<tf.RaggedTensor [[49, 50, 51, 52, 53, 54, 55], [72, 73, 74]]>"
            ]
          },
          "metadata": {},
          "execution_count": 7
        }
      ]
    },
    {
      "cell_type": "code",
      "source": [
        "chars_from_ids = tf.keras.layers.StringLookup(\n",
        "    vocabulary=ids_from_chars.get_vocabulary(), invert=True, mask_token=None)"
      ],
      "metadata": {
        "id": "Dxv4tLArfhn0"
      },
      "execution_count": 8,
      "outputs": []
    },
    {
      "cell_type": "code",
      "source": [
        "chars = chars_from_ids(ids)\n",
        "chars"
      ],
      "metadata": {
        "colab": {
          "base_uri": "https://localhost:8080/"
        },
        "id": "U0FidKoZficV",
        "outputId": "9c304d60-18e9-46b3-f63a-334c8259c2f7"
      },
      "execution_count": 9,
      "outputs": [
        {
          "output_type": "execute_result",
          "data": {
            "text/plain": [
              "<tf.RaggedTensor [[b'a', b'b', b'c', b'd', b'e', b'f', b'g'], [b'x', b'y', b'z']]>"
            ]
          },
          "metadata": {},
          "execution_count": 9
        }
      ]
    },
    {
      "cell_type": "code",
      "source": [
        "tf.strings.reduce_join(chars, axis=-1).numpy()"
      ],
      "metadata": {
        "colab": {
          "base_uri": "https://localhost:8080/"
        },
        "id": "xBlViyO4fnYL",
        "outputId": "15a5861f-96e1-414d-ee0b-b74eb8e9d778"
      },
      "execution_count": 10,
      "outputs": [
        {
          "output_type": "execute_result",
          "data": {
            "text/plain": [
              "array([b'abcdefg', b'xyz'], dtype=object)"
            ]
          },
          "metadata": {},
          "execution_count": 10
        }
      ]
    },
    {
      "cell_type": "code",
      "source": [
        "def text_from_ids(ids):\n",
        "  return tf.strings.reduce_join(chars_from_ids(ids), axis=-1)"
      ],
      "metadata": {
        "id": "T4L-3zDhfqmA"
      },
      "execution_count": 11,
      "outputs": []
    },
    {
      "cell_type": "code",
      "source": [
        "all_ids = ids_from_chars(tf.strings.unicode_split(text, 'UTF-8'))\n",
        "all_ids"
      ],
      "metadata": {
        "colab": {
          "base_uri": "https://localhost:8080/"
        },
        "id": "s1LF0gBLftTm",
        "outputId": "73453976-2566-4a6a-cd16-7295505f6378"
      },
      "execution_count": 12,
      "outputs": [
        {
          "output_type": "execute_result",
          "data": {
            "text/plain": [
              "<tf.Tensor: shape=(611300,), dtype=int64, numpy=array([36, 66, 63, ..., 27, 10,  1])>"
            ]
          },
          "metadata": {},
          "execution_count": 12
        }
      ]
    },
    {
      "cell_type": "code",
      "source": [
        "ids_dataset = tf.data.Dataset.from_tensor_slices(all_ids)"
      ],
      "metadata": {
        "id": "h0rQ_W9efxSa"
      },
      "execution_count": 13,
      "outputs": []
    },
    {
      "cell_type": "code",
      "source": [
        "for ids in ids_dataset.take(10):\n",
        "    print(chars_from_ids(ids).numpy().decode('utf-8'))"
      ],
      "metadata": {
        "colab": {
          "base_uri": "https://localhost:8080/"
        },
        "id": "SEXib3FSfx8K",
        "outputId": "38286062-a06b-472c-c3c4-0b0b623ccf38"
      },
      "execution_count": 14,
      "outputs": [
        {
          "output_type": "stream",
          "name": "stdout",
          "text": [
            "P\n",
            "r\n",
            "o\n",
            "v\n",
            "i\n",
            "d\n",
            "e\n",
            "d\n",
            " \n",
            "b\n"
          ]
        }
      ]
    },
    {
      "cell_type": "code",
      "source": [
        "seq_length = 100"
      ],
      "metadata": {
        "id": "SdVqQrDTf1TA"
      },
      "execution_count": 15,
      "outputs": []
    },
    {
      "cell_type": "code",
      "source": [
        "sequences = ids_dataset.batch(seq_length+1, drop_remainder=True)\n",
        "\n",
        "for seq in sequences.take(1):\n",
        "  print(chars_from_ids(seq))"
      ],
      "metadata": {
        "colab": {
          "base_uri": "https://localhost:8080/"
        },
        "id": "y6uMpfLUf6hr",
        "outputId": "6235ada8-cbff-4c6c-a16f-f1c023166cc8"
      },
      "execution_count": 16,
      "outputs": [
        {
          "output_type": "stream",
          "name": "stdout",
          "text": [
            "tf.Tensor(\n",
            "[b'P' b'r' b'o' b'v' b'i' b'd' b'e' b'd' b' ' b'b' b'y' b' ' b'T' b'h'\n",
            " b'e' b' ' b'I' b'n' b't' b'e' b'r' b'n' b'e' b't' b' ' b'C' b'l' b'a'\n",
            " b's' b's' b'i' b'c' b's' b' ' b'A' b'r' b'c' b'h' b'i' b'v' b'e' b'.'\n",
            " b'\\n' b'S' b'e' b'e' b' ' b'b' b'o' b't' b't' b'o' b'm' b' ' b'f' b'o'\n",
            " b'r' b' ' b'c' b'o' b'p' b'y' b'r' b'i' b'g' b'h' b't' b'.' b' ' b'A'\n",
            " b'v' b'a' b'i' b'l' b'a' b'b' b'l' b'e' b' ' b'o' b'n' b'l' b'i' b'n'\n",
            " b'e' b' ' b'a' b't' b'\\n' b' ' b' ' b' ' b' ' b'h' b't' b't' b'p' b':'\n",
            " b'/' b'/' b'c'], shape=(101,), dtype=string)\n"
          ]
        }
      ]
    },
    {
      "cell_type": "code",
      "source": [
        "for seq in sequences.take(5):\n",
        "  print(text_from_ids(seq).numpy())"
      ],
      "metadata": {
        "colab": {
          "base_uri": "https://localhost:8080/"
        },
        "id": "PwSb_r_-f8N0",
        "outputId": "4b3de5e8-6b03-42ce-b8ae-83936022c5f3"
      },
      "execution_count": 17,
      "outputs": [
        {
          "output_type": "stream",
          "name": "stdout",
          "text": [
            "b'Provided by The Internet Classics Archive.\\nSee bottom for copyright. Available online at\\n    http://c'\n",
            "b'lassics.mit.edu//Homer/odyssey.html\\n\\nThe Odyssey\\nBy Homer\\n\\n\\nTranslated by Samuel Butler\\n\\n------------'\n",
            "b'----------------------------------------------------------\\n\\nBOOK I\\n\\nTell me, O muse, of that ingeniou'\n",
            "b's hero who travelled far and wide\\nafter he had sacked the famous town of Troy. Many cities did he vis'\n",
            "b'it,\\nand many were the nations with whose manners and customs he was acquainted;\\nmoreover he suffered '\n"
          ]
        }
      ]
    },
    {
      "cell_type": "code",
      "source": [
        "def split_input_target(sequence):\n",
        "    input_text = sequence[:-1]\n",
        "    target_text = sequence[1:]\n",
        "    return input_text, target_text"
      ],
      "metadata": {
        "id": "lglvnH7BgCUS"
      },
      "execution_count": 18,
      "outputs": []
    },
    {
      "cell_type": "code",
      "source": [
        "split_input_target(list(\"Tensorflow\"))"
      ],
      "metadata": {
        "colab": {
          "base_uri": "https://localhost:8080/"
        },
        "id": "mvkYC6KSgDCM",
        "outputId": "d7e1190e-b904-4e47-897d-270fafa53fd0"
      },
      "execution_count": 19,
      "outputs": [
        {
          "output_type": "execute_result",
          "data": {
            "text/plain": [
              "(['T', 'e', 'n', 's', 'o', 'r', 'f', 'l', 'o'],\n",
              " ['e', 'n', 's', 'o', 'r', 'f', 'l', 'o', 'w'])"
            ]
          },
          "metadata": {},
          "execution_count": 19
        }
      ]
    },
    {
      "cell_type": "code",
      "source": [
        "dataset = sequences.map(split_input_target)"
      ],
      "metadata": {
        "id": "Z8j8FDpvgHHS"
      },
      "execution_count": 20,
      "outputs": []
    },
    {
      "cell_type": "code",
      "source": [
        "for input_example, target_example in dataset.take(1):\n",
        "    print(\"Input :\", text_from_ids(input_example).numpy())\n",
        "    print(\"Target:\", text_from_ids(target_example).numpy())"
      ],
      "metadata": {
        "colab": {
          "base_uri": "https://localhost:8080/"
        },
        "id": "grXu7TX4gJk2",
        "outputId": "f71972d7-8936-4b61-b9e6-3420bc4a4116"
      },
      "execution_count": 21,
      "outputs": [
        {
          "output_type": "stream",
          "name": "stdout",
          "text": [
            "Input : b'Provided by The Internet Classics Archive.\\nSee bottom for copyright. Available online at\\n    http://'\n",
            "Target: b'rovided by The Internet Classics Archive.\\nSee bottom for copyright. Available online at\\n    http://c'\n"
          ]
        }
      ]
    },
    {
      "cell_type": "code",
      "source": [
        "# Batch size\n",
        "BATCH_SIZE = 64\n",
        "\n",
        "# Buffer size to shuffle the dataset\n",
        "# (TF data is designed to work with possibly infinite sequences,\n",
        "# so it doesn't attempt to shuffle the entire sequence in memory. Instead,\n",
        "# it maintains a buffer in which it shuffles elements).\n",
        "BUFFER_SIZE = 10000\n",
        "\n",
        "dataset = (\n",
        "    dataset\n",
        "    .shuffle(BUFFER_SIZE)\n",
        "    .batch(BATCH_SIZE, drop_remainder=True)\n",
        "    .prefetch(tf.data.experimental.AUTOTUNE))\n",
        "\n",
        "dataset"
      ],
      "metadata": {
        "colab": {
          "base_uri": "https://localhost:8080/"
        },
        "id": "Aay8XFVUgMNi",
        "outputId": "6899480b-dff6-4b63-cc52-6d28ba789155"
      },
      "execution_count": 22,
      "outputs": [
        {
          "output_type": "execute_result",
          "data": {
            "text/plain": [
              "<PrefetchDataset element_spec=(TensorSpec(shape=(64, 100), dtype=tf.int64, name=None), TensorSpec(shape=(64, 100), dtype=tf.int64, name=None))>"
            ]
          },
          "metadata": {},
          "execution_count": 22
        }
      ]
    },
    {
      "cell_type": "code",
      "source": [
        "# Length of the vocabulary in StringLookup Layer\n",
        "vocab_size = len(ids_from_chars.get_vocabulary())\n",
        "\n",
        "# The embedding dimension\n",
        "embedding_dim = 256\n",
        "\n",
        "# Number of RNN units\n",
        "rnn_units = 1024"
      ],
      "metadata": {
        "id": "Vt44J-4WgTgW"
      },
      "execution_count": 23,
      "outputs": []
    },
    {
      "cell_type": "code",
      "source": [
        "class MyModel(tf.keras.Model):\n",
        "  def __init__(self, vocab_size, embedding_dim, rnn_units):\n",
        "    super().__init__(self)\n",
        "    self.embedding = tf.keras.layers.Embedding(vocab_size, embedding_dim)\n",
        "    self.gru = tf.keras.layers.GRU(rnn_units,\n",
        "                                   return_sequences=True,\n",
        "                                   return_state=True)\n",
        "    self.dense = tf.keras.layers.Dense(vocab_size)\n",
        "\n",
        "  def call(self, inputs, states=None, return_state=False, training=False):\n",
        "    x = inputs\n",
        "    x = self.embedding(x, training=training)\n",
        "    if states is None:\n",
        "      states = self.gru.get_initial_state(x)\n",
        "    x, states = self.gru(x, initial_state=states, training=training)\n",
        "    x = self.dense(x, training=training)\n",
        "\n",
        "    if return_state:\n",
        "      return x, states\n",
        "    else:\n",
        "      return x"
      ],
      "metadata": {
        "id": "qdgUqO_pgU8_"
      },
      "execution_count": 24,
      "outputs": []
    },
    {
      "cell_type": "code",
      "source": [
        "model = MyModel(\n",
        "    vocab_size=vocab_size,\n",
        "    embedding_dim=embedding_dim,\n",
        "    rnn_units=rnn_units)"
      ],
      "metadata": {
        "id": "UYROzgaegXcM"
      },
      "execution_count": 25,
      "outputs": []
    },
    {
      "cell_type": "code",
      "source": [
        "for input_example_batch, target_example_batch in dataset.take(1):\n",
        "    example_batch_predictions = model(input_example_batch)\n",
        "    print(example_batch_predictions.shape, \"# (batch_size, sequence_length, vocab_size)\")"
      ],
      "metadata": {
        "colab": {
          "base_uri": "https://localhost:8080/"
        },
        "id": "_MRsFAeygaB8",
        "outputId": "f6c2f39b-628c-4f3f-dacf-53bbd5687bcf"
      },
      "execution_count": 26,
      "outputs": [
        {
          "output_type": "stream",
          "name": "stdout",
          "text": [
            "(64, 100, 75) # (batch_size, sequence_length, vocab_size)\n"
          ]
        }
      ]
    },
    {
      "cell_type": "code",
      "source": [
        "model.summary()"
      ],
      "metadata": {
        "colab": {
          "base_uri": "https://localhost:8080/"
        },
        "id": "wylr2_DKgesZ",
        "outputId": "ebef0d4a-b953-4aff-dac9-507132784e41"
      },
      "execution_count": 27,
      "outputs": [
        {
          "output_type": "stream",
          "name": "stdout",
          "text": [
            "Model: \"my_model\"\n",
            "_________________________________________________________________\n",
            " Layer (type)                Output Shape              Param #   \n",
            "=================================================================\n",
            " embedding (Embedding)       multiple                  19200     \n",
            "                                                                 \n",
            " gru (GRU)                   multiple                  3938304   \n",
            "                                                                 \n",
            " dense (Dense)               multiple                  76875     \n",
            "                                                                 \n",
            "=================================================================\n",
            "Total params: 4,034,379\n",
            "Trainable params: 4,034,379\n",
            "Non-trainable params: 0\n",
            "_________________________________________________________________\n"
          ]
        }
      ]
    },
    {
      "cell_type": "code",
      "source": [
        "sampled_indices = tf.random.categorical(example_batch_predictions[0], num_samples=1)\n",
        "sampled_indices = tf.squeeze(sampled_indices, axis=-1).numpy()"
      ],
      "metadata": {
        "id": "rTu0HbORgpJu"
      },
      "execution_count": 28,
      "outputs": []
    },
    {
      "cell_type": "code",
      "source": [
        "sampled_indices"
      ],
      "metadata": {
        "colab": {
          "base_uri": "https://localhost:8080/"
        },
        "id": "P-QIpPdlgqSP",
        "outputId": "8cbbe52c-4fb6-4ca7-d531-57a9f6781f80"
      },
      "execution_count": 29,
      "outputs": [
        {
          "output_type": "execute_result",
          "data": {
            "text/plain": [
              "array([50,  4,  5, 19, 28, 42, 26, 65, 56, 32,  7, 40, 70, 59, 23, 57,  5,\n",
              "       21, 59,  5, 29, 11, 14, 57,  3, 39,  8, 59, 71, 72, 48, 24, 31, 33,\n",
              "       26, 15, 41, 18, 38, 13, 37, 48, 42, 42, 52, 36, 37, 25, 74, 14, 50,\n",
              "       36, 56, 19, 46, 25, 15, 11,  7, 44, 50, 14, 20, 26, 41, 25, 38, 43,\n",
              "       27, 21, 18, 60, 55, 20,  9, 47, 28,  6, 38, 36, 72, 13, 65, 27, 27,\n",
              "       36, 43, 59, 31, 36, 73, 62, 36, 12,  3, 27, 72,  9, 46, 11])"
            ]
          },
          "metadata": {},
          "execution_count": 29
        }
      ]
    },
    {
      "cell_type": "code",
      "source": [
        "print(\"Input:\\n\", text_from_ids(input_example_batch[0]).numpy())\n",
        "print()\n",
        "print(\"Next Char Predictions:\\n\", text_from_ids(sampled_indices).numpy())"
      ],
      "metadata": {
        "colab": {
          "base_uri": "https://localhost:8080/"
        },
        "id": "uP65P2oLgsi6",
        "outputId": "c7e825c9-e6e0-47f9-e6ae-84cf57729d7d"
      },
      "execution_count": 30,
      "outputs": [
        {
          "output_type": "stream",
          "name": "stdout",
          "text": [
            "Input:\n",
            " b'd heavy upon me; but as regards your question, there is an island\\nfar away in the sea which is calle'\n",
            "\n",
            "Next Char Predictions:\n",
            " b'b\"\\'?HVFqhL)TvkCi\\'Ak\\'I/2i!S,kwx]DKMF4U;R1Q]VVdPQEz2bPh?ZE4/)Xb2@FUERWGA;lg@-[H(RPx1qGGPWkKPynP0!Gx-Z/'\n"
          ]
        }
      ]
    },
    {
      "cell_type": "code",
      "source": [
        "loss = tf.losses.SparseCategoricalCrossentropy(from_logits=True)"
      ],
      "metadata": {
        "id": "n6_8PKoIgwap"
      },
      "execution_count": 31,
      "outputs": []
    },
    {
      "cell_type": "code",
      "source": [
        "example_batch_mean_loss = loss(target_example_batch, example_batch_predictions)\n",
        "print(\"Prediction shape: \", example_batch_predictions.shape, \" # (batch_size, sequence_length, vocab_size)\")\n",
        "print(\"Mean loss:        \", example_batch_mean_loss)"
      ],
      "metadata": {
        "colab": {
          "base_uri": "https://localhost:8080/"
        },
        "id": "2WM95sAJgz2q",
        "outputId": "a43bd911-bbe2-499f-915b-047b06176de1"
      },
      "execution_count": 32,
      "outputs": [
        {
          "output_type": "stream",
          "name": "stdout",
          "text": [
            "Prediction shape:  (64, 100, 75)  # (batch_size, sequence_length, vocab_size)\n",
            "Mean loss:         tf.Tensor(4.3170867, shape=(), dtype=float32)\n"
          ]
        }
      ]
    },
    {
      "cell_type": "code",
      "source": [
        "tf.exp(example_batch_mean_loss).numpy()"
      ],
      "metadata": {
        "colab": {
          "base_uri": "https://localhost:8080/"
        },
        "id": "mBoUP6I7g2Z8",
        "outputId": "6368075a-f77a-4bd7-86ae-59156a7c04da"
      },
      "execution_count": 33,
      "outputs": [
        {
          "output_type": "execute_result",
          "data": {
            "text/plain": [
              "74.9699"
            ]
          },
          "metadata": {},
          "execution_count": 33
        }
      ]
    },
    {
      "cell_type": "code",
      "source": [
        "model.compile(optimizer='adam', loss=loss)"
      ],
      "metadata": {
        "id": "9CIlAcKjg6If"
      },
      "execution_count": 34,
      "outputs": []
    },
    {
      "cell_type": "code",
      "source": [
        "# Directory where the checkpoints will be saved\n",
        "checkpoint_dir = './training_checkpoints'\n",
        "# Name of the checkpoint files\n",
        "checkpoint_prefix = os.path.join(checkpoint_dir, \"ckpt_{epoch}\")\n",
        "\n",
        "checkpoint_callback = tf.keras.callbacks.ModelCheckpoint(\n",
        "    filepath=checkpoint_prefix,\n",
        "    save_weights_only=True)"
      ],
      "metadata": {
        "id": "i6rNGnHcg7Uf"
      },
      "execution_count": 35,
      "outputs": []
    },
    {
      "cell_type": "code",
      "source": [
        "EPOCHS = 30"
      ],
      "metadata": {
        "id": "36gw_vpxg-i7"
      },
      "execution_count": 36,
      "outputs": []
    },
    {
      "cell_type": "code",
      "source": [
        "history = model.fit(dataset, epochs=EPOCHS, callbacks=[checkpoint_callback])"
      ],
      "metadata": {
        "colab": {
          "base_uri": "https://localhost:8080/"
        },
        "id": "VI6DmJM9hAWe",
        "outputId": "ed46d56e-bf75-4bc3-b755-3b6de3d84909"
      },
      "execution_count": 37,
      "outputs": [
        {
          "output_type": "stream",
          "name": "stdout",
          "text": [
            "Epoch 1/30\n",
            "94/94 [==============================] - 10s 52ms/step - loss: 2.8985\n",
            "Epoch 2/30\n",
            "94/94 [==============================] - 5s 48ms/step - loss: 2.1657\n",
            "Epoch 3/30\n",
            "94/94 [==============================] - 5s 48ms/step - loss: 1.9187\n",
            "Epoch 4/30\n",
            "94/94 [==============================] - 5s 49ms/step - loss: 1.7128\n",
            "Epoch 5/30\n",
            "94/94 [==============================] - 5s 50ms/step - loss: 1.5563\n",
            "Epoch 6/30\n",
            "94/94 [==============================] - 5s 49ms/step - loss: 1.4426\n",
            "Epoch 7/30\n",
            "94/94 [==============================] - 5s 50ms/step - loss: 1.3561\n",
            "Epoch 8/30\n",
            "94/94 [==============================] - 6s 50ms/step - loss: 1.2889\n",
            "Epoch 9/30\n",
            "94/94 [==============================] - 5s 50ms/step - loss: 1.2303\n",
            "Epoch 10/30\n",
            "94/94 [==============================] - 5s 50ms/step - loss: 1.1787\n",
            "Epoch 11/30\n",
            "94/94 [==============================] - 5s 50ms/step - loss: 1.1287\n",
            "Epoch 12/30\n",
            "94/94 [==============================] - 5s 50ms/step - loss: 1.0817\n",
            "Epoch 13/30\n",
            "94/94 [==============================] - 6s 51ms/step - loss: 1.0331\n",
            "Epoch 14/30\n",
            "94/94 [==============================] - 6s 51ms/step - loss: 0.9811\n",
            "Epoch 15/30\n",
            "94/94 [==============================] - 5s 50ms/step - loss: 0.9278\n",
            "Epoch 16/30\n",
            "94/94 [==============================] - 6s 51ms/step - loss: 0.8750\n",
            "Epoch 17/30\n",
            "94/94 [==============================] - 6s 51ms/step - loss: 0.8207\n",
            "Epoch 18/30\n",
            "94/94 [==============================] - 6s 51ms/step - loss: 0.7606\n",
            "Epoch 19/30\n",
            "94/94 [==============================] - 6s 51ms/step - loss: 0.7034\n",
            "Epoch 20/30\n",
            "94/94 [==============================] - 6s 51ms/step - loss: 0.6445\n",
            "Epoch 21/30\n",
            "94/94 [==============================] - 6s 52ms/step - loss: 0.5849\n",
            "Epoch 22/30\n",
            "94/94 [==============================] - 6s 52ms/step - loss: 0.5282\n",
            "Epoch 23/30\n",
            "94/94 [==============================] - 6s 52ms/step - loss: 0.4729\n",
            "Epoch 24/30\n",
            "94/94 [==============================] - 6s 52ms/step - loss: 0.4274\n",
            "Epoch 25/30\n",
            "94/94 [==============================] - 6s 53ms/step - loss: 0.3860\n",
            "Epoch 26/30\n",
            "94/94 [==============================] - 6s 54ms/step - loss: 0.3467\n",
            "Epoch 27/30\n",
            "94/94 [==============================] - 6s 53ms/step - loss: 0.3138\n",
            "Epoch 28/30\n",
            "94/94 [==============================] - 6s 53ms/step - loss: 0.2867\n",
            "Epoch 29/30\n",
            "94/94 [==============================] - 6s 54ms/step - loss: 0.2629\n",
            "Epoch 30/30\n",
            "94/94 [==============================] - 6s 54ms/step - loss: 0.2429\n"
          ]
        }
      ]
    },
    {
      "cell_type": "code",
      "source": [
        "class OneStep(tf.keras.Model):\n",
        "  def __init__(self, model, chars_from_ids, ids_from_chars, temperature=1.0):\n",
        "    super().__init__()\n",
        "    self.temperature = temperature\n",
        "    self.model = model\n",
        "    self.chars_from_ids = chars_from_ids\n",
        "    self.ids_from_chars = ids_from_chars\n",
        "\n",
        "    # Create a mask to prevent \"[UNK]\" from being generated.\n",
        "    skip_ids = self.ids_from_chars(['[UNK]'])[:, None]\n",
        "    sparse_mask = tf.SparseTensor(\n",
        "        # Put a -inf at each bad index.\n",
        "        values=[-float('inf')]*len(skip_ids),\n",
        "        indices=skip_ids,\n",
        "        # Match the shape to the vocabulary\n",
        "        dense_shape=[len(ids_from_chars.get_vocabulary())])\n",
        "    self.prediction_mask = tf.sparse.to_dense(sparse_mask)\n",
        "\n",
        "  @tf.function\n",
        "  def generate_one_step(self, inputs, states=None):\n",
        "    # Convert strings to token IDs.\n",
        "    input_chars = tf.strings.unicode_split(inputs, 'UTF-8')\n",
        "    input_ids = self.ids_from_chars(input_chars).to_tensor()\n",
        "\n",
        "    # Run the model.\n",
        "    # predicted_logits.shape is [batch, char, next_char_logits]\n",
        "    predicted_logits, states = self.model(inputs=input_ids, states=states,\n",
        "                                          return_state=True)\n",
        "    # Only use the last prediction.\n",
        "    predicted_logits = predicted_logits[:, -1, :]\n",
        "    predicted_logits = predicted_logits/self.temperature\n",
        "    # Apply the prediction mask: prevent \"[UNK]\" from being generated.\n",
        "    predicted_logits = predicted_logits + self.prediction_mask\n",
        "\n",
        "    # Sample the output logits to generate token IDs.\n",
        "    predicted_ids = tf.random.categorical(predicted_logits, num_samples=1)\n",
        "    predicted_ids = tf.squeeze(predicted_ids, axis=-1)\n",
        "\n",
        "    # Convert from token ids to characters\n",
        "    predicted_chars = self.chars_from_ids(predicted_ids)\n",
        "\n",
        "    # Return the characters and model state.\n",
        "    return predicted_chars, states"
      ],
      "metadata": {
        "id": "rs409h_phETR"
      },
      "execution_count": 38,
      "outputs": []
    },
    {
      "cell_type": "code",
      "source": [
        "one_step_model = OneStep(model, chars_from_ids, ids_from_chars)"
      ],
      "metadata": {
        "id": "phGz842LiyR9"
      },
      "execution_count": 39,
      "outputs": []
    },
    {
      "cell_type": "code",
      "source": [
        "start = time.time()\n",
        "states = None\n",
        "next_char = tf.constant(['Hello'])\n",
        "result = [next_char]\n",
        "\n",
        "for n in range(50):\n",
        "  next_char, states = one_step_model.generate_one_step(next_char, states=states)\n",
        "  result.append(next_char)\n",
        "\n",
        "result = tf.strings.join(result)\n",
        "end = time.time()\n",
        "print(result[0].numpy().decode('utf-8'), '\\n\\n' + '_'*80)\n",
        "print('\\nRun time:', end - start)"
      ],
      "metadata": {
        "colab": {
          "base_uri": "https://localhost:8080/"
        },
        "id": "v6Uw12lIi1fb",
        "outputId": "02d1a93f-f098-45aa-c736-83f7e0d9e09e"
      },
      "execution_count": 40,
      "outputs": [
        {
          "output_type": "stream",
          "name": "stdout",
          "text": [
            "Hellous\n",
            "shut up small and shote the wine, and dreved th \n",
            "\n",
            "________________________________________________________________________________\n",
            "\n",
            "Run time: 0.908409595489502\n"
          ]
        }
      ]
    },
    {
      "cell_type": "code",
      "source": [
        "tf.saved_model.save(one_step_model, 'one_step')\n",
        "one_step_reloaded = tf.saved_model.load('one_step')"
      ],
      "metadata": {
        "colab": {
          "base_uri": "https://localhost:8080/"
        },
        "id": "_Ascdr1Al28O",
        "outputId": "ed73fa52-a82b-4afb-e06b-de8de6a8519e"
      },
      "execution_count": 41,
      "outputs": [
        {
          "output_type": "stream",
          "name": "stdout",
          "text": [
            "WARNING:tensorflow:Skipping full serialization of Keras layer <__main__.OneStep object at 0x7f5cbc1f6710>, because it is not built.\n"
          ]
        },
        {
          "output_type": "stream",
          "name": "stderr",
          "text": [
            "WARNING:absl:Found untraced functions such as gru_cell_layer_call_fn, gru_cell_layer_call_and_return_conditional_losses while saving (showing 2 of 2). These functions will not be directly callable after loading.\n"
          ]
        },
        {
          "output_type": "stream",
          "name": "stdout",
          "text": [
            "INFO:tensorflow:Assets written to: one_step/assets\n"
          ]
        },
        {
          "output_type": "stream",
          "name": "stderr",
          "text": [
            "INFO:tensorflow:Assets written to: one_step/assets\n"
          ]
        }
      ]
    },
    {
      "cell_type": "code",
      "source": [
        "states = None\n",
        "next_char = tf.constant(['You suck '])\n",
        "result = [next_char]\n",
        "\n",
        "for n in range(500):\n",
        "  next_char, states = one_step_reloaded.generate_one_step(next_char, states=states)\n",
        "  result.append(next_char)\n",
        "\n",
        "print(tf.strings.join(result)[0].numpy().decode(\"utf-8\"))"
      ],
      "metadata": {
        "colab": {
          "base_uri": "https://localhost:8080/"
        },
        "id": "RPZ0hXgRl3rd",
        "outputId": "2658ba3e-a610-4758-c948-c4ef056dfba8"
      },
      "execution_count": 42,
      "outputs": [
        {
          "output_type": "stream",
          "name": "stdout",
          "text": [
            "You suck to him in my own house\n",
            "and come home, and see if you can tell me what I think will be all his displeaser,\n",
            "and I will tell you everything that is going to happen over the\n",
            "waters of Oceanus the sons of Arcenifemens,\n",
            "but let us see whether it is long about the aim.\" \n",
            "\n",
            "Ulysses answered, \"madam, or I have been long about the country or staying in my own house\n",
            "to persuase the suitors in your house, whichever you please, but I used two sons\n",
            "\n",
            "Hadome down to the sea shore, webe, stoo, at which the\n",
            "work o\n"
          ]
        }
      ]
    }
  ]
}